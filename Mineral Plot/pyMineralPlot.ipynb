{
 "cells": [
  {
   "cell_type": "code",
   "execution_count": 14,
   "metadata": {},
   "outputs": [],
   "source": [
    "import matplotlib.pyplot as mlib\n",
    "import mpltern as mpl\n",
    "import pandas as pd\n",
    "import os\n",
    "\n",
    "from loadEPMA import csvLoad\n",
    "\n",
    "tempDir=os.getcwd()\n",
    "dataFile='%s\\\\data\\\\' % tempDir"
   ]
  }
 ],
 "metadata": {
  "kernelspec": {
   "display_name": "Python 3",
   "language": "python",
   "name": "python3"
  },
  "language_info": {
   "codemirror_mode": {
    "name": "ipython",
    "version": 3
   },
   "file_extension": ".py",
   "mimetype": "text/x-python",
   "name": "python",
   "nbconvert_exporter": "python",
   "pygments_lexer": "ipython3",
   "version": "3.10.7"
  },
  "orig_nbformat": 4,
  "vscode": {
   "interpreter": {
    "hash": "b160ba8c6ae3c59704c1d148c83c87083c31ba752f0ca4c81f9e831cf8a442ae"
   }
  }
 },
 "nbformat": 4,
 "nbformat_minor": 2
}
